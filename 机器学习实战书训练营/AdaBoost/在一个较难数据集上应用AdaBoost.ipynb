{
 "cells": [
  {
   "cell_type": "markdown",
   "metadata": {},
   "source": [
    "# 在一个难数据集上应用 AdaBoost"
   ]
  },
  {
   "cell_type": "markdown",
   "metadata": {},
   "source": [
    "**说明:**\n",
    "\n",
    "将 `horseColicTraining2.txt` 和 `horseColicTest2.txt` 放在当前目录下。"
   ]
  },
  {
   "cell_type": "code",
   "execution_count": 53,
   "metadata": {},
   "outputs": [],
   "source": [
    "import numpy as np\n",
    "def get_data(filename):\n",
    "    dataMatirx = []\n",
    "    dataLabel = []\n",
    "    with open(filename,'r+') as file:\n",
    "        dataList=file.readlines()\n",
    "        for data in dataList:\n",
    "            data_tmp = data.strip().split()\n",
    "            dataMatirx.append(data_tmp[:-1])\n",
    "            dataLabel.append(data_tmp[-1])\n",
    "\n",
    "    dataMatrix = np.array(dataMatirx,dtype=float)\n",
    "    dataLabel = np.array(dataLabel,dtype=float)\n",
    "    return (dataMatrix,dataLabel)\n",
    "\n",
    "def get_stump_classify(dataMatrix,dimen,threshold_val,threshold_type):\n",
    "    \n",
    "    n_sample = dataMatrix.shape[0]\n",
    "    result = np.ones((n_sample,1))\n",
    "    if threshold_type == 'lt':\n",
    "        result[dataMatrix[:,dimen] <= threshold_val] = -1.0\n",
    "    else:\n",
    "        result[dataMatrix[:,dimen] > threshold_val] = -1.0\n",
    "    \n",
    "    return result\n",
    "\n",
    "def get_stump(dataMatrix,dataLabel,D):\n",
    "    (n_sample,n_feature)=dataMatrix.shape\n",
    "    dataLabel=dataLabel.reshape((n_sample,1))\n",
    "    step_cnt=10.0\n",
    "    min_error=np.inf\n",
    "    best_stump={}\n",
    "    best_predict_label=np.ones((n_sample,1))\n",
    "\n",
    "    for i in range(n_feature):\n",
    "        val_min=min(dataMatrix[:,i])\n",
    "        val_max=max(dataMatrix[:,i])\n",
    "        step_size=(val_max-val_min)/step_cnt\n",
    "        for j in range(-1,int(step_cnt)+1):\n",
    "            for types in ['lt','gt']:\n",
    "                threshold_val = val_min + float(step_size)*j\n",
    "                predictLabel = get_stump_classify(dataMatrix = dataMatrix,\n",
    "                                                  dimen = i,\n",
    "                                                  threshold_val = threshold_val,\n",
    "                                                  threshold_type = types)\n",
    "                error_arr=np.ones((n_sample,1))\n",
    "                error_arr[predictLabel==dataLabel] = 0\n",
    "                weight_error=np.dot(D.T,error_arr)\n",
    "                weight_error=weight_error[0][0]\n",
    "                if weight_error < min_error:\n",
    "                    min_error = weight_error\n",
    "                    best_stump['dim'] = i\n",
    "                    best_stump['threshold_val'] = threshold_val\n",
    "                    best_stump['threshold_type'] = types\n",
    "                    best_predict_label = predictLabel.copy()\n",
    "    \n",
    "    return min_error,best_stump,best_predict_label\n",
    "\n",
    "def AdaBoostDS(dataMatrix,dataLabel,baseModelCnt=40):\n",
    "    n_sample=dataMatrix.shape[0]\n",
    "    dataLabel=dataLabel.reshape((n_sample,1))\n",
    "    D=np.ones((n_sample,1))/n_sample\n",
    "    AdaBoost_Model=[]\n",
    "    agg_predict_label=np.zeros((n_sample,1))\n",
    "    for i in range(0,baseModelCnt):\n",
    "        min_error,best_stump,best_predict_label = get_stump(dataMatrix,dataLabel,D)\n",
    "     \n",
    "        alpha = float(0.5*np.log((1-min_error)/(min_error+1e-16)))\n",
    "        best_stump['alpha'] = alpha\n",
    "        AdaBoost_Model.append(best_stump)\n",
    "        \n",
    "        tmp = -1.0*alpha*dataLabel*best_predict_label\n",
    "        D = D*np.exp(tmp)\n",
    "        D = D/np.sum(D)\n",
    "        agg_predict_label += alpha*best_predict_label\n",
    "        agg_error_rate = np.sign(agg_predict_label) == dataLabel\n",
    "        error_rate=np.sum(agg_error_rate)/n_sample\n",
    "        \n",
    "        if error_rate==0:\n",
    "            break\n",
    "        \n",
    "    return AdaBoost_Model\n",
    "\n",
    "def predict(model,dataMatrix):\n",
    "    \n",
    "    base_model_cnt=len(model)\n",
    "    agg_predict_label=np.zeros((dataMatrix.shape[0],1))\n",
    "    for i in range(0,base_model_cnt):\n",
    "        base_model = model[i]\n",
    "        alpha = base_model['alpha']\n",
    "        dim = base_model['dim']\n",
    "        threshold_val = base_model['threshold_val']\n",
    "        threshold_type = base_model['threshold_type']\n",
    "        predict_label_tmp = get_stump_classify(dataMatrix,dim,threshold_val,threshold_type)\n",
    "        agg_predict_label += alpha*predict_label_tmp\n",
    "    \n",
    "    predict_label=np.sign(agg_predict_label)\n",
    "    predict_label=np.squeeze(predict_label)\n",
    "    return predict_label\n"
   ]
  },
  {
   "cell_type": "markdown",
   "metadata": {},
   "source": [
    "### 加载数据"
   ]
  },
  {
   "cell_type": "code",
   "execution_count": 51,
   "metadata": {},
   "outputs": [
    {
     "name": "stdout",
     "output_type": "stream",
     "text": [
      "训练集： (299, 21)\n",
      "训练集标签： (299,)\n",
      "测试集： (67, 21)\n",
      "测试集标签： (67,)\n"
     ]
    }
   ],
   "source": [
    "\n",
    "filename = 'data/horseColicTraining2.txt'\n",
    "data_train,label_train = get_data(filename)\n",
    "\n",
    "filename = 'data/horseColicTest2.txt'\n",
    "data_test,label_test = get_data(filename)\n",
    "\n",
    "print(\"训练集：\",data_train.shape)\n",
    "print(\"训练集标签：\",label_train.shape)\n",
    "print(\"测试集：\",data_test.shape)\n",
    "print(\"测试集标签：\",label_test.shape)\n"
   ]
  },
  {
   "cell_type": "markdown",
   "metadata": {},
   "source": [
    "### 模型构建和预测"
   ]
  },
  {
   "cell_type": "code",
   "execution_count": 67,
   "metadata": {},
   "outputs": [
    {
     "name": "stdout",
     "output_type": "stream",
     "text": [
      "iters=1,训练集:errer_rate=0.284,测试集:error_rate=0.269\n",
      "iters=10,训练集:errer_rate=0.231,测试集:error_rate=0.239\n",
      "iters=50,训练集:errer_rate=0.187,测试集:error_rate=0.209\n",
      "iters=100,训练集:errer_rate=0.191,测试集:error_rate=0.224\n",
      "iters=500,训练集:errer_rate=0.157,测试集:error_rate=0.254\n",
      "iters=1000,训练集:errer_rate=0.14,测试集:error_rate=0.313\n",
      "iters=5000,训练集:errer_rate=0.11,测试集:error_rate=0.328\n",
      "iters=10000,训练集:errer_rate=0.11,测试集:error_rate=0.328\n"
     ]
    }
   ],
   "source": [
    "baseModelCntList=[1,10,50,100,500,1000,5000,10000]\n",
    "\n",
    "for baseModelCnt in baseModelCntList:\n",
    "    \n",
    "    adaboost_model=AdaBoostDS(data_train,label_train,baseModelCnt)\n",
    "    pre_label_train=predict(adaboost_model,data_train)\n",
    "    error_rate_train=1-np.sum(pre_label_train==label_train)/len(label_train)\n",
    "    error_rate_train=round(error_rate_train,3)\n",
    "    \n",
    "    pre_label_train=predict(adaboost_model,data_test)\n",
    "    error_rate_test=1-np.sum(pre_label_train==label_test)/len(label_test)\n",
    "    error_rate_test=round(error_rate_test,3)\n",
    "    \n",
    "    print('iters={0},训练集:errer_rate={1},测试集:error_rate={2}'.format(baseModelCnt,error_rate_train,error_rate_test))\n"
   ]
  },
  {
   "cell_type": "code",
   "execution_count": null,
   "metadata": {},
   "outputs": [],
   "source": []
  }
 ],
 "metadata": {
  "kernelspec": {
   "display_name": "Python 3",
   "language": "python",
   "name": "python3"
  },
  "language_info": {
   "codemirror_mode": {
    "name": "ipython",
    "version": 3
   },
   "file_extension": ".py",
   "mimetype": "text/x-python",
   "name": "python",
   "nbconvert_exporter": "python",
   "pygments_lexer": "ipython3",
   "version": "3.6.3"
  }
 },
 "nbformat": 4,
 "nbformat_minor": 2
}
