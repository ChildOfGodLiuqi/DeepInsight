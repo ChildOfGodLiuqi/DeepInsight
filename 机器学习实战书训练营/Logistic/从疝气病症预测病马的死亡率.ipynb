{
 "cells": [
  {
   "cell_type": "markdown",
   "metadata": {},
   "source": [
    "# 从疝气病症预测病马的死亡率"
   ]
  },
  {
   "cell_type": "markdown",
   "metadata": {},
   "source": [
    "**说明:**\n",
    "\n",
    "将 `horseColicTraining.txt` 和 `horseColicTest.txt` 放在当前目录下。"
   ]
  },
  {
   "cell_type": "code",
   "execution_count": 4,
   "metadata": {},
   "outputs": [],
   "source": [
    "import numpy as np\n",
    "import random\n",
    "\n",
    "def get_data(filename):\n",
    "    dataMatrix=[]\n",
    "    dataLabel=[]\n",
    "    with open(filename,'r+') as file:\n",
    "        DataList=file.readlines()\n",
    "        for data in DataList:\n",
    "            data_tmp=data.strip().split()\n",
    "            dataMatrix.append([1]+list(map(float,data_tmp[:-1])))\n",
    "            dataLabel.append(float(data_tmp[-1]))\n",
    "    dataMatrix=np.array(dataMatrix)\n",
    "    dataLabel=np.array(dataLabel).reshape(len(dataLabel),1)\n",
    "    \n",
    "    return (dataMatrix,dataLabel)    \n",
    "\n",
    "def sigmoid(x):\n",
    "    \n",
    "    result=1/(1+np.exp(-x))\n",
    "    \n",
    "    return result\n",
    "\n",
    "\n",
    "def get_weight_gradAscent(dataMatrix,dataLabel,learning_rate=0.001,iters=200):\n",
    "    \n",
    "    (n_sample,n_features)=dataMatrix.shape\n",
    "    weights=np.ones((n_features,1))\n",
    "    for i in range(iters):\n",
    "        z=np.dot(dataMatrix,weights)\n",
    "        y_pre=sigmoid(z)\n",
    "        error=dataLabel-y_pre\n",
    "        weights=weights+learning_rate*np.dot(trainMatrix.T,error)/n_sample\n",
    "   \n",
    "    return weights\n",
    "\n",
    "def get_weight_stocGradAscent(dataMatrix,dataLabel,learning_rate=4,iters=200):\n",
    "    \n",
    "    (n_sample,n_features)=dataMatrix.shape\n",
    "    weights=np.ones((n_features,1))\n",
    "    for i in range(iters):\n",
    "        idx=list(range(n_sample))\n",
    "        for j in range(n_sample):\n",
    "            learning_rate=learning_rate/(1+i+j)+0.01\n",
    "            randomIdx=int(random.uniform(0,len(idx)))\n",
    "            trainSample=trainMatrix[randomIdx]\n",
    "            trainSample=trainSample.reshape(1,len(trainSample))\n",
    "            labelSample=trainLabel[randomIdx]\n",
    "            labelSample=labelSample.reshape(1,1)\n",
    "            z=np.dot(trainSample,weights)\n",
    "            y_pre=sigmoid(z)\n",
    "            error=labelSample-y_pre\n",
    "            weights=weights+learning_rate*np.dot(trainSample.T,error)\n",
    "            del(idx[randomIdx])\n",
    "            \n",
    "    return weights     \n",
    "\n",
    "def predict(weights,dataMatrix,output_type='label'):\n",
    "    \n",
    "    z=np.dot(dataMatrix,weights)\n",
    "    y_prob=sigmoid(z)\n",
    "    y_label=(y_prob>=0.5).astype(float)\n",
    "    \n",
    "    if output_type=='label':\n",
    "        return y_label\n",
    "    else:\n",
    "        return y_prob"
   ]
  },
  {
   "cell_type": "markdown",
   "metadata": {},
   "source": [
    "### 读取数据"
   ]
  },
  {
   "cell_type": "code",
   "execution_count": 5,
   "metadata": {},
   "outputs": [
    {
     "name": "stdout",
     "output_type": "stream",
     "text": [
      "训练集: (299, 22)\n",
      "训练集标签: (299, 1)\n",
      "测试集: (67, 22)\n",
      "测试集标签: (67, 1)\n"
     ]
    }
   ],
   "source": [
    "filename='data/horseColicTraining.txt'\n",
    "(trainMatrix,trainLabel)=get_data(filename)\n",
    "\n",
    "filename='data/horseColicTest.txt'\n",
    "(testMatrix,testLabel)=get_data(filename)\n",
    "\n",
    "print('训练集:',trainMatrix.shape)\n",
    "print('训练集标签:',trainLabel.shape)\n",
    "\n",
    "print('测试集:',testMatrix.shape)\n",
    "print('测试集标签:',testLabel.shape)"
   ]
  },
  {
   "cell_type": "markdown",
   "metadata": {},
   "source": [
    "### 梯度上升"
   ]
  },
  {
   "cell_type": "code",
   "execution_count": 185,
   "metadata": {},
   "outputs": [
    {
     "name": "stdout",
     "output_type": "stream",
     "text": [
      "learning_rate=0.0001，iters=20，训练集error_rate=0.405,测试集error_rate:0.299\n",
      "learning_rate=0.0001，iters=200，训练集error_rate=0.405,测试集error_rate:0.299\n",
      "learning_rate=0.0001，iters=2000，训练集error_rate=0.385,测试集error_rate:0.373\n",
      "learning_rate=0.0001，iters=20000，训练集error_rate=0.425,测试集error_rate:0.388\n",
      "learning_rate=0.001，iters=20，训练集error_rate=0.405,测试集error_rate:0.299\n",
      "learning_rate=0.001，iters=200，训练集error_rate=0.385,测试集error_rate:0.373\n",
      "learning_rate=0.001，iters=2000，训练集error_rate=0.425,测试集error_rate:0.388\n",
      "learning_rate=0.001，iters=20000，训练集error_rate=0.274,测试集error_rate:0.239\n",
      "learning_rate=0.01，iters=20，训练集error_rate=0.408,测试集error_rate:0.493\n",
      "learning_rate=0.01，iters=200，训练集error_rate=0.468,测试集error_rate:0.493\n",
      "learning_rate=0.01，iters=2000，训练集error_rate=0.411,测试集error_rate:0.507\n",
      "learning_rate=0.01，iters=20000，训练集error_rate=0.351,测试集error_rate:0.448\n",
      "learning_rate=0.1，iters=20，训练集error_rate=0.395,测试集error_rate:0.299\n",
      "learning_rate=0.1，iters=200，训练集error_rate=0.361,测试集error_rate:0.313\n",
      "learning_rate=0.1，iters=2000，训练集error_rate=0.355,测试集error_rate:0.269\n",
      "learning_rate=0.1，iters=20000，训练集error_rate=0.331,测试集error_rate:0.269\n"
     ]
    }
   ],
   "source": [
    "learning_rate=[0.0001,0.001,0.01,0.1]\n",
    "iters=[20,200,2000,20000]\n",
    "for i in learning_rate:\n",
    "    for j in iters:\n",
    "        weights=get_weight_gradAscent(trainMatrix,trainLabel,learning_rate=i,iters=j)\n",
    "        y_pre_label_train=predict(weights,trainMatrix)\n",
    "        y_pre_label_test=predict(weights,testMatrix)\n",
    "        train_error_rate=1-sum(trainLabel==y_pre_label_train)/y_pre_label_train.shape[0]\n",
    "        test_error_rate=1-sum(testLabel==y_pre_label_test)/y_pre_label_test.shape[0]\n",
    "        train_error_rate=round(train_error_rate[0],3)\n",
    "        test_error_rate=round(test_error_rate[0],3)\n",
    "        str_output=\"learning_rate={0}，iters={1}，训练集error_rate={2},测试集error_rate:{3}\".\\\n",
    "        format(i,j,train_error_rate,test_error_rate)\n",
    "        print(str_output)"
   ]
  },
  {
   "cell_type": "markdown",
   "metadata": {},
   "source": [
    "### 随机梯度上升"
   ]
  },
  {
   "cell_type": "code",
   "execution_count": 6,
   "metadata": {},
   "outputs": [
    {
     "name": "stderr",
     "output_type": "stream",
     "text": [
      "C:\\Anaconda3\\lib\\site-packages\\ipykernel_launcher.py:20: RuntimeWarning: overflow encountered in exp\n"
     ]
    },
    {
     "name": "stdout",
     "output_type": "stream",
     "text": [
      "learning_rate=3，iters=20，训练集error_rate=0.338,测试集error_rate:0.403\n",
      "learning_rate=3，iters=200，训练集error_rate=0.291,测试集error_rate:0.388\n",
      "learning_rate=3，iters=2000，训练集error_rate=0.361,测试集error_rate:0.373\n",
      "learning_rate=3，iters=20000，训练集error_rate=0.368,测试集error_rate:0.373\n",
      "learning_rate=4，iters=20，训练集error_rate=0.294,测试集error_rate:0.299\n",
      "learning_rate=4，iters=200，训练集error_rate=0.548,测试集error_rate:0.701\n",
      "learning_rate=4，iters=2000，训练集error_rate=0.321,测试集error_rate:0.373\n",
      "learning_rate=4，iters=20000，训练集error_rate=0.301,测试集error_rate:0.358\n",
      "learning_rate=5，iters=20，训练集error_rate=0.415,测试集error_rate:0.463\n",
      "learning_rate=5，iters=200，训练集error_rate=0.318,测试集error_rate:0.328\n",
      "learning_rate=5，iters=2000，训练集error_rate=0.378,测试集error_rate:0.418\n",
      "learning_rate=5，iters=20000，训练集error_rate=0.344,测试集error_rate:0.388\n"
     ]
    }
   ],
   "source": [
    "learning_rate=[3,4,5]\n",
    "iters=[20,200,2000,20000]\n",
    "for i in learning_rate:\n",
    "    for j in iters:\n",
    "        weights=get_weight_stocGradAscent(trainMatrix,trainLabel,learning_rate=i,iters=j)\n",
    "        y_pre_label_train=predict(weights,trainMatrix)\n",
    "        y_pre_label_test=predict(weights,testMatrix)\n",
    "        train_error_rate=1-sum(trainLabel==y_pre_label_train)/y_pre_label_train.shape[0]\n",
    "        test_error_rate=1-sum(testLabel==y_pre_label_test)/y_pre_label_test.shape[0]\n",
    "        train_error_rate=round(train_error_rate[0],3)\n",
    "        test_error_rate=round(test_error_rate[0],3)\n",
    "        str_output=\"learning_rate={0}，iters={1}，训练集error_rate={2},测试集error_rate:{3}\".\\\n",
    "        format(i,j,train_error_rate,test_error_rate)\n",
    "        print(str_output)"
   ]
  },
  {
   "cell_type": "code",
   "execution_count": null,
   "metadata": {},
   "outputs": [],
   "source": []
  }
 ],
 "metadata": {
  "kernelspec": {
   "display_name": "Python 3",
   "language": "python",
   "name": "python3"
  },
  "language_info": {
   "codemirror_mode": {
    "name": "ipython",
    "version": 3
   },
   "file_extension": ".py",
   "mimetype": "text/x-python",
   "name": "python",
   "nbconvert_exporter": "python",
   "pygments_lexer": "ipython3",
   "version": "3.6.3"
  }
 },
 "nbformat": 4,
 "nbformat_minor": 2
}
