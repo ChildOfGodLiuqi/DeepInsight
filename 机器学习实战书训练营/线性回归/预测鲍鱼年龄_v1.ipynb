{
 "cells": [
  {
   "cell_type": "code",
   "execution_count": 165,
   "metadata": {},
   "outputs": [],
   "source": [
    "import numpy as np\n",
    "\n",
    "def get_data(filename):\n",
    "    \n",
    "    dataMatrix = []\n",
    "    dataLabel = []\n",
    "    with open(filename,'r+') as file:\n",
    "        dataList = file.readlines()\n",
    "        for data in dataList:\n",
    "            data_tmp = data.strip().split()[:-1]\n",
    "            data_tmp = [1] + data_tmp\n",
    "            dataMatrix.append(data_tmp)\n",
    "            dataLabel.append(data.strip().split()[-1])\n",
    "\n",
    "    dataMatrix = np.array(dataMatrix,dtype = float)\n",
    "    dataLabel = np.array(dataLabel,dtype = float)\n",
    "    \n",
    "    return dataMatrix,dataLabel\n",
    "\n",
    "def model_linear_regression(dataMatrix,dataLabel):\n",
    "\n",
    "    Y = dataLabel.reshape((len(dataLabel),1))\n",
    "    \n",
    "    data_dot = np.dot(dataMatrix.T,dataMatrix)\n",
    "    if np.linalg.det(data_dot) == 0:\n",
    "        print('np.dot(dataMatrix.T,dataMatrix) 不可逆')\n",
    "        return \n",
    "    data_inv = np.linalg.inv(data_dot)\n",
    "\n",
    "    W = np.dot(data_inv,np.dot(dataMatrix.T,Y))\n",
    "    return W\n",
    "\n",
    "def model_ridge_regression(dataMatrix,dataLabel,lambd = 1):\n",
    "\n",
    "    Y = dataLabel.reshape((len(dataLabel),1))\n",
    "    I_matrix = np.identity(dataMatrix.shape[1])\n",
    "    data_dot = np.dot(dataMatrix.T,dataMatrix)\n",
    "    data_dot = data_dot+lambd*I_matrix\n",
    "    if np.linalg.det(data_dot) == 0:\n",
    "        print('np.dot(dataMatrix.T,dataMatrix) 不可逆')\n",
    "        return \n",
    "    data_inv = np.linalg.inv(data_dot)\n",
    "\n",
    "    W = np.dot(data_inv,np.dot(dataMatrix.T,Y))\n",
    "    return W\n",
    "\n",
    "def predict(model,data):\n",
    "    \n",
    "    y_pre = np.dot(dataMatrix,model_lr)\n",
    "    y_pre = np.squeeze(y_pre)\n",
    "    \n",
    "    return y_pre\n",
    "\n",
    "\n",
    "def model_lw_linear_regression(testPoint,dataMatrix,dataLabel,k):\n",
    "    \n",
    "    Y = dataLabel.reshape((len(dataLabel),1))\n",
    "    diffmat = testPoint- dataMatrix\n",
    "    weights = np.exp(np.power(diffmat,2).sum(axis = 1)/(-2.0*k**2))\n",
    "    weights = np.diag(weights)\n",
    "    data_dot = np.dot(np.dot(dataMatrix.T,weights),dataMatrix)\n",
    "    if np.linalg.det(data_dot) == 0.0:\n",
    "        print('矩阵不可逆')\n",
    "        return\n",
    "\n",
    "    data_inv = np.linalg.inv(data_dot)\n",
    "    W = np.dot(data_inv,\n",
    "               np.dot(np.dot(dataMatrix.T,weights),\n",
    "                      Y)\n",
    "               )\n",
    "    return W\n",
    "\n",
    "def lw_predict(dataTest,dataMatrix,dataLabel,k=1):\n",
    "    \n",
    "    y_pre = []\n",
    "    for i in range(0,dataTest.shape[0]):\n",
    "        dataPoint = dataTest[i,:]\n",
    "        W = model_lw_linear_regression(dataPoint,dataMatrix,dataLabel,k = k)\n",
    "        y_pre_tmp = np.dot(dataPoint,W)\n",
    "        y_pre.append(y_pre_tmp)\n",
    "    \n",
    "    y_pre = np.array(y_pre).squeeze()\n",
    "    \n",
    "    return y_pre\n"
   ]
  },
  {
   "cell_type": "markdown",
   "metadata": {},
   "source": [
    "### 加载数据集"
   ]
  },
  {
   "cell_type": "code",
   "execution_count": 43,
   "metadata": {},
   "outputs": [
    {
     "name": "stdout",
     "output_type": "stream",
     "text": [
      "预测变量： (4177, 9)\n",
      "目标变量: (4177,)\n"
     ]
    }
   ],
   "source": [
    "\n",
    "filename = 'data/abalone.txt'\n",
    "\n",
    "dataMatrix,dataLabel = get_data(filename = filename)\n",
    "\n",
    "print('预测变量：',dataMatrix.shape)\n",
    "print('目标变量:',dataLabel.shape)\n"
   ]
  },
  {
   "cell_type": "markdown",
   "metadata": {},
   "source": [
    "### 标准线性回归"
   ]
  },
  {
   "cell_type": "code",
   "execution_count": 72,
   "metadata": {},
   "outputs": [
    {
     "name": "stdout",
     "output_type": "stream",
     "text": [
      "训练集的均方误差为: 4.907\n"
     ]
    }
   ],
   "source": [
    "\n",
    "model_lr = model_linear_regression(dataMatrix,dataLabel)\n",
    "y_pre = predict(model_lr,dataMatrix)\n",
    "mse = np.power(y_pre-dataLabel,2).mean()\n",
    "print('训练集的均方误差为:',round(mse,3))\n"
   ]
  },
  {
   "cell_type": "markdown",
   "metadata": {},
   "source": [
    "### 局部加权线性回归"
   ]
  },
  {
   "cell_type": "code",
   "execution_count": 167,
   "metadata": {},
   "outputs": [
    {
     "name": "stdout",
     "output_type": "stream",
     "text": [
      "k=1,训练集的均方误差为:4.664\n",
      "k=10,训练集的均方误差为:4.904\n",
      "k=100,训练集的均方误差为:4.906\n"
     ]
    }
   ],
   "source": [
    "\n",
    "for k in [1,10,100]:\n",
    "    y_pre = lw_predict(dataMatrix,dataMatrix,dataLabel,k = k)\n",
    "    mse = np.power(y_pre-dataLabel,2).mean()\n",
    "    print('k={0},训练集的均方误差为:{1}'.format(k,round(mse,3)))\n",
    "\n",
    "    "
   ]
  },
  {
   "cell_type": "markdown",
   "metadata": {},
   "source": [
    "### 岭回归"
   ]
  },
  {
   "cell_type": "code",
   "execution_count": 147,
   "metadata": {},
   "outputs": [
    {
     "name": "stdout",
     "output_type": "stream",
     "text": [
      "lambd=0.01,训练集的均方误差为:4.907\n",
      "lambd=0.1,训练集的均方误差为:4.907\n",
      "lambd=1,训练集的均方误差为:4.935\n",
      "lambd=10,训练集的均方误差为:5.336\n",
      "lambd=100,训练集的均方误差为:6.709\n"
     ]
    }
   ],
   "source": [
    "\n",
    "lambd_list = [0.01,0.1,1,10,100]\n",
    "for lambd in lambd_list:\n",
    "    model_lr = model_ridge_regression(dataMatrix,dataLabel,lambd = lambd)\n",
    "    y_pre = predict(model_lr,dataMatrix)\n",
    "    mse = np.power(y_pre-dataLabel,2).mean()\n",
    "    print('lambd={0},训练集的均方误差为:{1}'.format(lambd,round(mse,3)))\n"
   ]
  }
 ],
 "metadata": {
  "kernelspec": {
   "display_name": "Python 3",
   "language": "python",
   "name": "python3"
  },
  "language_info": {
   "codemirror_mode": {
    "name": "ipython",
    "version": 3
   },
   "file_extension": ".py",
   "mimetype": "text/x-python",
   "name": "python",
   "nbconvert_exporter": "python",
   "pygments_lexer": "ipython3",
   "version": "3.6.3"
  }
 },
 "nbformat": 4,
 "nbformat_minor": 2
}
