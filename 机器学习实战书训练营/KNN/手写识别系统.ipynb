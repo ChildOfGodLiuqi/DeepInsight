{
 "cells": [
  {
   "cell_type": "markdown",
   "metadata": {},
   "source": [
    "# 手写识别系统"
   ]
  },
  {
   "cell_type": "markdown",
   "metadata": {},
   "source": [
    "**说明：**\n",
    "\n",
    "将数据集文件 'digits.zip' 解压至当前文件夹"
   ]
  },
  {
   "cell_type": "code",
   "execution_count": 45,
   "metadata": {},
   "outputs": [],
   "source": [
    "\n",
    "import os\n",
    "import numpy as np\n",
    "\n",
    "def get_data_matrix(path):\n",
    "    files=os.listdir(path)\n",
    "    n_sample=len(files)\n",
    "    dataResult=np.zeros(shape=(n_sample,32*32+1))\n",
    "    iters=0\n",
    "    for i in files:\n",
    "        file=path+'/'+i\n",
    "        ylabel=i[0]\n",
    "        with open(file,mode='r') as file:\n",
    "\n",
    "            dataList=[]\n",
    "            dataLines=file.readlines()\n",
    "            for line in dataLines:\n",
    "                line=line.strip()\n",
    "                dataList=dataList+list(line)\n",
    "\n",
    "            dataList.append(ylabel)\n",
    "            dataResult[iters,:]=dataList\n",
    "        iters+=1    \n",
    "    return dataResult\n",
    "        \n",
    "#****************************************************\n",
    "def get_point_distance(point1,point2,p=2):\n",
    "    '''\n",
    "    计算样本点之间的距离\n",
    "    \n",
    "    '''\n",
    "    distance=np.abs(point1-point2)\n",
    "    distance=np.power(distance,p)\n",
    "    distance=np.sum(distance)\n",
    "    distance=np.power(distance,1/p)\n",
    "    \n",
    "    return distance\n",
    "    \n",
    "#***************************************************\n",
    "\n",
    "def knn_model(data_train,data_test,feature_cnt=1024,k=10,p=2):\n",
    "    \n",
    "    pre_list=list()\n",
    "    for i in data_test:\n",
    "        distance_list=list()\n",
    "        for j in data_train:\n",
    "            distance_list.append(get_point_distance(i[0:feature_cnt],j[0:feature_cnt],p=2))\n",
    "\n",
    "        idx=np.argsort(distance_list)[0:k]\n",
    "        pre_label=data_train[idx,feature_cnt].astype(int)\n",
    "        pre_label=np.argmax(np.bincount(pre_label))\n",
    "        pre_list.append(pre_label)\n",
    "    \n",
    "    return pre_list    "
   ]
  },
  {
   "cell_type": "code",
   "execution_count": 48,
   "metadata": {},
   "outputs": [
    {
     "name": "stdout",
     "output_type": "stream",
     "text": [
      "训练集: (1934, 1025)\n",
      "测试集: (946, 1025)\n"
     ]
    }
   ],
   "source": [
    "path='data/trainingDigits'\n",
    "data_train=get_data_matrix(path)\n",
    "path='data/testDigits'\n",
    "data_test=get_data_matrix(path)\n",
    "print(\"训练集:\",data_train.shape)\n",
    "print(\"测试集:\",data_test.shape)"
   ]
  },
  {
   "cell_type": "code",
   "execution_count": 46,
   "metadata": {},
   "outputs": [
    {
     "name": "stdout",
     "output_type": "stream",
     "text": [
      "p=2(欧式距离),k=1时，error_rate:0.014\n",
      "p=2(欧式距离),k=2时，error_rate:0.022\n",
      "p=2(欧式距离),k=3时，error_rate:0.011\n",
      "p=2(欧式距离),k=4时，error_rate:0.017\n",
      "p=2(欧式距离),k=5时，error_rate:0.019\n",
      "p=2(欧式距离),k=6时，error_rate:0.023\n",
      "p=2(欧式距离),k=7时，error_rate:0.023\n",
      "p=2(欧式距离),k=8时，error_rate:0.022\n",
      "p=2(欧式距离),k=9时，error_rate:0.025\n",
      "p=2(欧式距离),k=10时，error_rate:0.024\n",
      "p=2(欧式距离),k=11时，error_rate:0.022\n",
      "p=2(欧式距离),k=12时，error_rate:0.023\n",
      "p=2(欧式距离),k=13时，error_rate:0.025\n",
      "p=2(欧式距离),k=14时，error_rate:0.029\n",
      "p=2(欧式距离),k=15时，error_rate:0.026\n",
      "p=2(欧式距离),k=16时，error_rate:0.029\n",
      "p=2(欧式距离),k=17时，error_rate:0.024\n",
      "p=2(欧式距离),k=18时，error_rate:0.029\n",
      "p=2(欧式距离),k=19时，error_rate:0.027\n",
      "p=2(欧式距离),k=20时，error_rate:0.031\n"
     ]
    }
   ],
   "source": [
    "for i in range(1,21):\n",
    "    y_pre=knn_model(data_train,data_test,k=i,p=2)\n",
    "    error_rate=1-np.sum(data_test[:,1024]==np.array(y_pre))/len(y_pre)\n",
    "    error_rate=round(error_rate,3)\n",
    "    print('p=2(欧式距离),k={0}时，error_rate:{1}'.format(i,error_rate))\n"
   ]
  },
  {
   "cell_type": "code",
   "execution_count": 50,
   "metadata": {},
   "outputs": [
    {
     "name": "stdout",
     "output_type": "stream",
     "text": [
      "p=1(曼哈顿距离),k=1时，error_rate:0.014\n",
      "p=1(曼哈顿距离),k=2时，error_rate:0.022\n",
      "p=1(曼哈顿距离),k=3时，error_rate:0.011\n",
      "p=1(曼哈顿距离),k=4时，error_rate:0.017\n",
      "p=1(曼哈顿距离),k=5时，error_rate:0.019\n",
      "p=1(曼哈顿距离),k=6时，error_rate:0.023\n",
      "p=1(曼哈顿距离),k=7时，error_rate:0.023\n",
      "p=1(曼哈顿距离),k=8时，error_rate:0.022\n",
      "p=1(曼哈顿距离),k=9时，error_rate:0.025\n",
      "p=1(曼哈顿距离),k=10时，error_rate:0.024\n",
      "p=1(曼哈顿距离),k=11时，error_rate:0.022\n",
      "p=1(曼哈顿距离),k=12时，error_rate:0.023\n",
      "p=1(曼哈顿距离),k=13时，error_rate:0.025\n",
      "p=1(曼哈顿距离),k=14时，error_rate:0.029\n",
      "p=1(曼哈顿距离),k=15时，error_rate:0.026\n",
      "p=1(曼哈顿距离),k=16时，error_rate:0.029\n",
      "p=1(曼哈顿距离),k=17时，error_rate:0.024\n",
      "p=1(曼哈顿距离),k=18时，error_rate:0.029\n",
      "p=1(曼哈顿距离),k=19时，error_rate:0.027\n",
      "p=1(曼哈顿距离),k=20时，error_rate:0.031\n"
     ]
    }
   ],
   "source": [
    "\n",
    "for i in range(1,21):\n",
    "    y_pre=knn_model(data_train,data_test,k=i,p=1)\n",
    "    error_rate=1-np.sum(data_test[:,1024]==np.array(y_pre))/len(y_pre)\n",
    "    error_rate=round(error_rate,3)\n",
    "    print('p=1(曼哈顿距离),k={0}时，error_rate:{1}'.format(i,error_rate))\n",
    "    "
   ]
  },
  {
   "cell_type": "code",
   "execution_count": null,
   "metadata": {},
   "outputs": [],
   "source": []
  }
 ],
 "metadata": {
  "kernelspec": {
   "display_name": "Python 3",
   "language": "python",
   "name": "python3"
  },
  "language_info": {
   "codemirror_mode": {
    "name": "ipython",
    "version": 3
   },
   "file_extension": ".py",
   "mimetype": "text/x-python",
   "name": "python",
   "nbconvert_exporter": "python",
   "pygments_lexer": "ipython3",
   "version": "3.6.3"
  }
 },
 "nbformat": 4,
 "nbformat_minor": 2
}
