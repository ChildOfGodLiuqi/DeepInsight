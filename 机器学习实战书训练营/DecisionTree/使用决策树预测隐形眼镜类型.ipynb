{
 "cells": [
  {
   "cell_type": "markdown",
   "metadata": {},
   "source": [
    "# 使用决策树预测隐形眼镜类型"
   ]
  },
  {
   "cell_type": "markdown",
   "metadata": {},
   "source": [
    "**说明:**\n",
    "\n",
    "将数据集文件 'lenses.txt' 放在当前文件夹"
   ]
  },
  {
   "cell_type": "code",
   "execution_count": 179,
   "metadata": {},
   "outputs": [],
   "source": [
    "#import numpy as np\n",
    "from math import log\n",
    "from pickle import dump,load\n",
    "#**********************************\n",
    "def get_data_list(filename):\n",
    "    \"\"\"\n",
    "    读取文本数据\n",
    "    \n",
    "    \"\"\"\n",
    "    with open(filename,'r') as file:\n",
    "        dataList=file.readlines()\n",
    "        dataResult=[]\n",
    "        for i in dataList:\n",
    "            dataResult.append(i.strip().split('\\t'))\n",
    "    return dataResult\n",
    "#**********************************\n",
    "def get_entropy(dataList):\n",
    "    \"\"\"\n",
    "    计算经验熵\n",
    "    \n",
    "    \"\"\"\n",
    "    y_label=[i[-1] for i in dataList]\n",
    "    y_label_dict={}\n",
    "    y_label_len=len(y_label)\n",
    "    for i in y_label:\n",
    "        if i not in y_label_dict.keys():\n",
    "            y_label_dict[i]=1\n",
    "        else:\n",
    "            y_label_dict[i]+=1\n",
    "    entropy=0\n",
    "    for i in y_label_dict.keys():\n",
    "        prob=y_label_dict[i]/y_label_len\n",
    "        entropy+=-prob*log(prob)\n",
    "        \n",
    "    return entropy\n",
    "\n",
    "#**********************************\n",
    "def get_dataset(dataList,i,value):\n",
    "    \"\"\"\n",
    "    \n",
    "    \"\"\"\n",
    "    dataResult=[]\n",
    "    for sample in dataList:\n",
    "        if sample[i]==value:\n",
    "            dataResult.append(sample[:i]+sample[i+1:])\n",
    "        \n",
    "    return dataResult    \n",
    "    \n",
    "#**********************************\n",
    "def get_best_feature_split(dataList):\n",
    "    \"\"\"\n",
    "    选择最佳切分特征\n",
    "    \n",
    "    \"\"\"\n",
    "    feature_cnt=len(dataList[0])-1\n",
    "    baseEntropy=get_entropy(dataList)\n",
    "    feature_InfoGain={}\n",
    "    for i in range(0,feature_cnt):\n",
    "\n",
    "        subFeature=[sample[i] for sample in dataList]\n",
    "        entropy_tmp=0\n",
    "        for value in set(subFeature):\n",
    "            subData=get_dataset(dataList,i,value)\n",
    "            entropy_tmp+=(len(subData)/len(dataList))*get_entropy(subData)\n",
    "        feature_InfoGain[i]= baseEntropy-entropy_tmp\n",
    "\n",
    "    bestFeature=max(feature_InfoGain,key=feature_InfoGain.get)\n",
    "    \n",
    "    return bestFeature    \n",
    "#**********************************\n",
    "def get_predict_label(dataList):\n",
    "    \"\"\"\n",
    "    判断树节点所属的类别\n",
    "    \n",
    "    \"\"\"\n",
    "    y_label=[sample[-1] for sample in dataList]\n",
    "    label_dict={}\n",
    "    for i in y_label:\n",
    "        if i not in label_dict.keys():\n",
    "            label_dict[i]=1\n",
    "        else:\n",
    "            label_dict[i]+=1\n",
    "\n",
    "    pre_label=max(label_dict,key=label_dict.get)\n",
    "    \n",
    "    return pre_label\n",
    "#**********************************\n",
    "def tree_model(dataList):\n",
    "    \"\"\"\n",
    "    生成树\n",
    "    \"\"\"\n",
    "    y_label=[sample[-1] for sample in dataList]\n",
    "    if len(set(y_label))==1:\n",
    "        return y_label[0]\n",
    "    \n",
    "    if len(dataList[0])==1:\n",
    "        return get_predict_label(dataList)\n",
    "\n",
    "    feature_cnt=list(range(0,len(dataList[0])-1))\n",
    "    model={}\n",
    "    bestFeature=get_best_feature_split(dataList)\n",
    "    modelTree={bestFeature:{}}\n",
    "    subFeatureValues=[sample[bestFeature] for sample in dataList]\n",
    "    \n",
    "    for value in set(subFeatureValues):\n",
    "        \n",
    "        subData=get_dataset(dataList,bestFeature,value)\n",
    "        modelTree[bestFeature][value]=tree_model(subData)\n",
    "    \n",
    "    return modelTree    \n",
    " #**********************************\n",
    "def predict_one(TreeModel,dataTest):\n",
    "    \"\"\"\n",
    "    预测单个样本\n",
    "    \n",
    "    \"\"\"\n",
    "    feature=list(TreeModel.keys())[0]\n",
    "    feature_value=dataTest[feature]\n",
    "    subTree=TreeModel[feature][feature_value]\n",
    "\n",
    "    if isinstance(subTree,dict):\n",
    "        pre_label=predict(subTree,dataTest)\n",
    "    else:\n",
    "        pre_label=subTree\n",
    "    \n",
    "    return pre_label\n",
    "\n",
    "#**********************************\n",
    "def predict_multi(TreeModel,dataTest):\n",
    "    \"\"\"\n",
    "    预测多个样本\n",
    "    \n",
    "    \"\"\"\n",
    "    pre_label=[]\n",
    "    for sample in dataTest:\n",
    "        pre_label.append(predict_one(TreeModel,sample))\n",
    "    \n",
    "    return pre_label\n",
    "\n",
    "#**********************************\n",
    "def write_model(model,filename):\n",
    "\n",
    "    with open('filename','wb+') as file:\n",
    "        pickle.dump(TreeModel,file)\n",
    "    \n",
    "def load_model(filename):\n",
    " \n",
    "    with open(filename,'rb+')as file:\n",
    "        model=pickle.load(file)\n",
    "    return model"
   ]
  },
  {
   "cell_type": "markdown",
   "metadata": {},
   "source": [
    "### 生成树模型"
   ]
  },
  {
   "cell_type": "code",
   "execution_count": 180,
   "metadata": {},
   "outputs": [
    {
     "data": {
      "text/plain": [
       "{3: {'normal': {2: {'no': {0: {'pre': 'soft',\n",
       "      'presbyopic': {0: {'hyper': 'soft', 'myope': 'no lenses'}},\n",
       "      'young': 'soft'}},\n",
       "    'yes': {1: {'hyper': {0: {'pre': 'no lenses',\n",
       "        'presbyopic': 'no lenses',\n",
       "        'young': 'hard'}},\n",
       "      'myope': 'hard'}}}},\n",
       "  'reduced': 'no lenses'}}"
      ]
     },
     "execution_count": 180,
     "metadata": {},
     "output_type": "execute_result"
    }
   ],
   "source": [
    "\n",
    "filename='data/lenses.txt'\n",
    "lenses=get_data_list(filename)\n",
    "TreeModel=tree_model(dataList)\n",
    "TreeModel\n"
   ]
  },
  {
   "cell_type": "markdown",
   "metadata": {},
   "source": [
    "### 用生成的树模型预测分类"
   ]
  },
  {
   "cell_type": "code",
   "execution_count": 181,
   "metadata": {},
   "outputs": [
    {
     "name": "stdout",
     "output_type": "stream",
     "text": [
      "单个样本的预测输出 hard\n",
      "多个样本的预测输出 ['no lenses', 'soft', 'no lenses', 'hard', 'no lenses']\n"
     ]
    }
   ],
   "source": [
    "\n",
    "sample_one=dataList[3]\n",
    "pre=predict_one(TreeModel,sample_one)\n",
    "print(\"单个样本的预测输出\",pre)\n",
    "#------------------------------------------\n",
    "sample_multi=dataList[0:5]\n",
    "pre_multi=predict_multi(TreeModel,sample_multi)\n",
    "print(\"多个样本的预测输出\",pre_multi)\n"
   ]
  },
  {
   "cell_type": "markdown",
   "metadata": {},
   "source": [
    "### 序列化保存树模型"
   ]
  },
  {
   "cell_type": "code",
   "execution_count": 182,
   "metadata": {},
   "outputs": [],
   "source": [
    "filename='model/TreeModel.pkl'\n",
    "write_model(TreeModel,filename)"
   ]
  },
  {
   "cell_type": "markdown",
   "metadata": {},
   "source": [
    "### 加载树模型并拥有预测分类样本"
   ]
  },
  {
   "cell_type": "code",
   "execution_count": 183,
   "metadata": {},
   "outputs": [
    {
     "name": "stdout",
     "output_type": "stream",
     "text": [
      "单个样本的预测输出 soft\n",
      "多个样本的预测输出 ['soft', 'no lenses', 'hard', 'no lenses', 'soft']\n"
     ]
    }
   ],
   "source": [
    "filename='model/TreeModel.pkl'\n",
    "modelLoad=load_model(filename)\n",
    "\n",
    "sample_one=dataList[9]\n",
    "pre=predict_one(modelLoad,sample_one)\n",
    "print(\"单个样本的预测输出\",pre)\n",
    "#------------------------------------------\n",
    "sample_multi=dataList[5:10]\n",
    "pre_multi=predict_multi(modelLoad,sample_multi)\n",
    "print(\"多个样本的预测输出\",pre_multi)"
   ]
  },
  {
   "cell_type": "code",
   "execution_count": null,
   "metadata": {},
   "outputs": [],
   "source": []
  }
 ],
 "metadata": {
  "kernelspec": {
   "display_name": "Python 3",
   "language": "python",
   "name": "python3"
  },
  "language_info": {
   "codemirror_mode": {
    "name": "ipython",
    "version": 3
   },
   "file_extension": ".py",
   "mimetype": "text/x-python",
   "name": "python",
   "nbconvert_exporter": "python",
   "pygments_lexer": "ipython3",
   "version": "3.6.3"
  }
 },
 "nbformat": 4,
 "nbformat_minor": 2
}
